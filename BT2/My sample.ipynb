{
 "cells": [
  {
   "cell_type": "markdown",
   "metadata": {},
   "source": [
    "# Chuẩn bị dữ liệu"
   ]
  },
  {
   "cell_type": "code",
   "execution_count": 8,
   "metadata": {},
   "outputs": [],
   "source": [
    "# Import modules\n",
    "import pandas as pd\n",
    "import matplotlib.pyplot as plt\n",
    "import numpy as np\n",
    "import seaborn as sns\n",
    "import warnings\n",
    "\n",
    "# Loại bỏ những thông báo không cần thiết trong quá trình thực thi\n",
    "warnings.filterwarnings('ignore')\n",
    "\n",
    "# Load bộ dữ liệu vào biến 'data'\n",
    "file_path = './social_media_data_1000 (1).csv'\n",
    "data = pd.read_csv(file_path)"
   ]
  },
  {
   "cell_type": "markdown",
   "metadata": {},
   "source": [
    "# Một số quan sát về dữ liệu"
   ]
  },
  {
   "cell_type": "code",
   "execution_count": 9,
   "metadata": {},
   "outputs": [
    {
     "data": {
      "text/html": [
       "<div>\n",
       "<style scoped>\n",
       "    .dataframe tbody tr th:only-of-type {\n",
       "        vertical-align: middle;\n",
       "    }\n",
       "\n",
       "    .dataframe tbody tr th {\n",
       "        vertical-align: top;\n",
       "    }\n",
       "\n",
       "    .dataframe thead th {\n",
       "        text-align: right;\n",
       "    }\n",
       "</style>\n",
       "<table border=\"1\" class=\"dataframe\">\n",
       "  <thead>\n",
       "    <tr style=\"text-align: right;\">\n",
       "      <th></th>\n",
       "      <th>Post_ID</th>\n",
       "      <th>User_ID</th>\n",
       "      <th>Age</th>\n",
       "      <th>Gender</th>\n",
       "      <th>Post_Content</th>\n",
       "      <th>Likes</th>\n",
       "      <th>Shares</th>\n",
       "      <th>Comments</th>\n",
       "      <th>Post_Date</th>\n",
       "    </tr>\n",
       "  </thead>\n",
       "  <tbody>\n",
       "    <tr>\n",
       "      <th>0</th>\n",
       "      <td>1</td>\n",
       "      <td>754</td>\n",
       "      <td>25</td>\n",
       "      <td>Male</td>\n",
       "      <td>Enjoying the weather</td>\n",
       "      <td>62</td>\n",
       "      <td>14</td>\n",
       "      <td>4</td>\n",
       "      <td>2024-09-24 03:43:00</td>\n",
       "    </tr>\n",
       "    <tr>\n",
       "      <th>1</th>\n",
       "      <td>2</td>\n",
       "      <td>858</td>\n",
       "      <td>52</td>\n",
       "      <td>Male</td>\n",
       "      <td>Watching a movie</td>\n",
       "      <td>108</td>\n",
       "      <td>2</td>\n",
       "      <td>0</td>\n",
       "      <td>2024-09-03 06:14:00</td>\n",
       "    </tr>\n",
       "    <tr>\n",
       "      <th>2</th>\n",
       "      <td>3</td>\n",
       "      <td>617</td>\n",
       "      <td>56</td>\n",
       "      <td>Male</td>\n",
       "      <td>Celebrating a birthday</td>\n",
       "      <td>50</td>\n",
       "      <td>45</td>\n",
       "      <td>20</td>\n",
       "      <td>2024-09-23 17:26:00</td>\n",
       "    </tr>\n",
       "    <tr>\n",
       "      <th>3</th>\n",
       "      <td>4</td>\n",
       "      <td>325</td>\n",
       "      <td>46</td>\n",
       "      <td>Female</td>\n",
       "      <td>Great day at the park</td>\n",
       "      <td>194</td>\n",
       "      <td>10</td>\n",
       "      <td>22</td>\n",
       "      <td>2024-09-14 10:17:00</td>\n",
       "    </tr>\n",
       "    <tr>\n",
       "      <th>4</th>\n",
       "      <td>5</td>\n",
       "      <td>259</td>\n",
       "      <td>31</td>\n",
       "      <td>Female</td>\n",
       "      <td>New blog post up!</td>\n",
       "      <td>23</td>\n",
       "      <td>24</td>\n",
       "      <td>3</td>\n",
       "      <td>2024-09-12 11:38:00</td>\n",
       "    </tr>\n",
       "  </tbody>\n",
       "</table>\n",
       "</div>"
      ],
      "text/plain": [
       "   Post_ID  User_ID  Age  Gender            Post_Content  Likes  Shares  \\\n",
       "0        1      754   25    Male    Enjoying the weather     62      14   \n",
       "1        2      858   52    Male        Watching a movie    108       2   \n",
       "2        3      617   56    Male  Celebrating a birthday     50      45   \n",
       "3        4      325   46  Female   Great day at the park    194      10   \n",
       "4        5      259   31  Female       New blog post up!     23      24   \n",
       "\n",
       "   Comments            Post_Date  \n",
       "0         4  2024-09-24 03:43:00  \n",
       "1         0  2024-09-03 06:14:00  \n",
       "2        20  2024-09-23 17:26:00  \n",
       "3        22  2024-09-14 10:17:00  \n",
       "4         3  2024-09-12 11:38:00  "
      ]
     },
     "execution_count": 9,
     "metadata": {},
     "output_type": "execute_result"
    }
   ],
   "source": [
    "# Xem 5 dòng đầu dữ liệu\n",
    "data.head()"
   ]
  },
  {
   "cell_type": "code",
   "execution_count": 10,
   "metadata": {},
   "outputs": [
    {
     "name": "stdout",
     "output_type": "stream",
     "text": [
      "<class 'pandas.core.frame.DataFrame'>\n",
      "RangeIndex: 1000 entries, 0 to 999\n",
      "Data columns (total 9 columns):\n",
      " #   Column        Non-Null Count  Dtype \n",
      "---  ------        --------------  ----- \n",
      " 0   Post_ID       1000 non-null   int64 \n",
      " 1   User_ID       1000 non-null   int64 \n",
      " 2   Age           1000 non-null   int64 \n",
      " 3   Gender        1000 non-null   object\n",
      " 4   Post_Content  1000 non-null   object\n",
      " 5   Likes         1000 non-null   int64 \n",
      " 6   Shares        1000 non-null   int64 \n",
      " 7   Comments      1000 non-null   int64 \n",
      " 8   Post_Date     1000 non-null   object\n",
      "dtypes: int64(6), object(3)\n",
      "memory usage: 70.4+ KB\n"
     ]
    }
   ],
   "source": [
    "# Xem cấu trúc dữ liệu\n",
    "data.info()"
   ]
  },
  {
   "cell_type": "markdown",
   "metadata": {},
   "source": [
    "Nhận thấy ở đây vẫn còn một số thuộc tính có kiểu 'Object' (tức là cột vẫn chưa xác định được kiểu dữ liệu chuẩn), vì vậy ta sẽ tiến hành đặt lại kiểu dữ liệu cho các thuộc tính này bao gồm:\n",
    "- 'Gender': chuyển về kiểu dữ liệu 'category', vì sẽ tối ưu vùng nhớ và cho tốc độ xử lý tốt hơn, phù hợp hơn với kiểu thuộc tính chỉ có vài loại giá trị.\n",
    "- 'Post_Content': chuyển về kiểu 'str' cho loại dữ liệu văn bản.\n",
    "- 'Post_Date': đưa về định dạng datetime tương ứng\n",
    "> Mục đích khi chuẩn hóa kiểu dữ liệu là để đảm bảo tính đúng đắn và đầy đủ của dữ liệu, tạo điều kiện thuận lợi cho những phân tích có liên quan sau này."
   ]
  },
  {
   "cell_type": "code",
   "execution_count": 14,
   "metadata": {},
   "outputs": [],
   "source": [
    "# Chỉ định kiểu dữ liệu cho `Gender` và `Post_Content`\n",
    "data['Gender'] = data['Gender'].astype('category')\n",
    "data['Post_Content'] = data['Post_Content'].astype('string')\n",
    "data['Post_Date'] = pd.to_datetime(data['Post_Date'])"
   ]
  },
  {
   "cell_type": "code",
   "execution_count": 22,
   "metadata": {},
   "outputs": [
    {
     "data": {
      "text/html": [
       "<div>\n",
       "<style scoped>\n",
       "    .dataframe tbody tr th:only-of-type {\n",
       "        vertical-align: middle;\n",
       "    }\n",
       "\n",
       "    .dataframe tbody tr th {\n",
       "        vertical-align: top;\n",
       "    }\n",
       "\n",
       "    .dataframe thead th {\n",
       "        text-align: right;\n",
       "    }\n",
       "</style>\n",
       "<table border=\"1\" class=\"dataframe\">\n",
       "  <thead>\n",
       "    <tr style=\"text-align: right;\">\n",
       "      <th></th>\n",
       "      <th>Post_ID</th>\n",
       "      <th>User_ID</th>\n",
       "      <th>Age</th>\n",
       "      <th>Likes</th>\n",
       "      <th>Shares</th>\n",
       "      <th>Comments</th>\n",
       "      <th>Post_Date</th>\n",
       "    </tr>\n",
       "  </thead>\n",
       "  <tbody>\n",
       "    <tr>\n",
       "      <th>count</th>\n",
       "      <td>1000.000000</td>\n",
       "      <td>1000.000000</td>\n",
       "      <td>1000.000000</td>\n",
       "      <td>1000.000000</td>\n",
       "      <td>1000.000000</td>\n",
       "      <td>1000.000000</td>\n",
       "      <td>1000</td>\n",
       "    </tr>\n",
       "    <tr>\n",
       "      <th>mean</th>\n",
       "      <td>500.500000</td>\n",
       "      <td>602.233000</td>\n",
       "      <td>39.217000</td>\n",
       "      <td>103.040000</td>\n",
       "      <td>25.346000</td>\n",
       "      <td>14.814000</td>\n",
       "      <td>2024-09-17 04:44:00.420000</td>\n",
       "    </tr>\n",
       "    <tr>\n",
       "      <th>min</th>\n",
       "      <td>1.000000</td>\n",
       "      <td>100.000000</td>\n",
       "      <td>18.000000</td>\n",
       "      <td>0.000000</td>\n",
       "      <td>0.000000</td>\n",
       "      <td>0.000000</td>\n",
       "      <td>2024-09-01 00:09:00</td>\n",
       "    </tr>\n",
       "    <tr>\n",
       "      <th>25%</th>\n",
       "      <td>250.750000</td>\n",
       "      <td>365.750000</td>\n",
       "      <td>28.000000</td>\n",
       "      <td>51.000000</td>\n",
       "      <td>12.750000</td>\n",
       "      <td>7.000000</td>\n",
       "      <td>2024-09-09 23:51:15</td>\n",
       "    </tr>\n",
       "    <tr>\n",
       "      <th>50%</th>\n",
       "      <td>500.500000</td>\n",
       "      <td>594.000000</td>\n",
       "      <td>39.000000</td>\n",
       "      <td>107.000000</td>\n",
       "      <td>25.000000</td>\n",
       "      <td>15.000000</td>\n",
       "      <td>2024-09-17 13:13:30</td>\n",
       "    </tr>\n",
       "    <tr>\n",
       "      <th>75%</th>\n",
       "      <td>750.250000</td>\n",
       "      <td>853.000000</td>\n",
       "      <td>50.000000</td>\n",
       "      <td>154.250000</td>\n",
       "      <td>39.000000</td>\n",
       "      <td>22.000000</td>\n",
       "      <td>2024-09-24 11:36:15</td>\n",
       "    </tr>\n",
       "    <tr>\n",
       "      <th>max</th>\n",
       "      <td>1000.000000</td>\n",
       "      <td>1100.000000</td>\n",
       "      <td>60.000000</td>\n",
       "      <td>200.000000</td>\n",
       "      <td>50.000000</td>\n",
       "      <td>30.000000</td>\n",
       "      <td>2024-10-01 23:43:00</td>\n",
       "    </tr>\n",
       "    <tr>\n",
       "      <th>std</th>\n",
       "      <td>288.819436</td>\n",
       "      <td>288.982192</td>\n",
       "      <td>12.419829</td>\n",
       "      <td>58.970857</td>\n",
       "      <td>14.849943</td>\n",
       "      <td>8.787185</td>\n",
       "      <td>NaN</td>\n",
       "    </tr>\n",
       "  </tbody>\n",
       "</table>\n",
       "</div>"
      ],
      "text/plain": [
       "           Post_ID      User_ID          Age        Likes       Shares  \\\n",
       "count  1000.000000  1000.000000  1000.000000  1000.000000  1000.000000   \n",
       "mean    500.500000   602.233000    39.217000   103.040000    25.346000   \n",
       "min       1.000000   100.000000    18.000000     0.000000     0.000000   \n",
       "25%     250.750000   365.750000    28.000000    51.000000    12.750000   \n",
       "50%     500.500000   594.000000    39.000000   107.000000    25.000000   \n",
       "75%     750.250000   853.000000    50.000000   154.250000    39.000000   \n",
       "max    1000.000000  1100.000000    60.000000   200.000000    50.000000   \n",
       "std     288.819436   288.982192    12.419829    58.970857    14.849943   \n",
       "\n",
       "          Comments                   Post_Date  \n",
       "count  1000.000000                        1000  \n",
       "mean     14.814000  2024-09-17 04:44:00.420000  \n",
       "min       0.000000         2024-09-01 00:09:00  \n",
       "25%       7.000000         2024-09-09 23:51:15  \n",
       "50%      15.000000         2024-09-17 13:13:30  \n",
       "75%      22.000000         2024-09-24 11:36:15  \n",
       "max      30.000000         2024-10-01 23:43:00  \n",
       "std       8.787185                         NaN  "
      ]
     },
     "execution_count": 22,
     "metadata": {},
     "output_type": "execute_result"
    }
   ],
   "source": [
    "# Xem thống kê tổng quát của một số thuộc tính\n",
    "data.describe()"
   ]
  },
  {
   "cell_type": "markdown",
   "metadata": {},
   "source": [
    "# Xây dựng một số hàm cần thiết cho việc phân tích"
   ]
  },
  {
   "cell_type": "code",
   "execution_count": null,
   "metadata": {},
   "outputs": [],
   "source": [
    "# Hàm phân loại độ tuổi\n",
    "def age_group(age):\n",
    "    if 18 <= age < 31:\n",
    "        return '18-30'\n",
    "    elif 31 <= age < 41:\n",
    "        return '31-40'\n",
    "    elif 41 <= age < 51:\n",
    "        return '41-50'\n",
    "    elif 51 <= age <= 60:\n",
    "        return '51-60'\n",
    "    else:\n",
    "        return 'Khác'  # Để xử lý các trường hợp ngoài phạm vi"
   ]
  },
  {
   "cell_type": "markdown",
   "metadata": {},
   "source": [
    "# **YÊU CẦU 1: Xác định mối quan hệ giữa số lượt thích của một bài đăng và độ tuổi của người đăng**"
   ]
  },
  {
   "cell_type": "markdown",
   "metadata": {},
   "source": [
    "Đầu tiên, để đơn giản hóa, ta có thể xem xét mối quan hệ trực tiếp giữa số lượt thích và độ tuổi sử dụng biểu đồ cột, biểu đồ hộp hay biểu đồ phân tán.\n",
    "\n",
    "Giải thích lý do sử dụng các biểu đồ trên:\n",
    "- Biểu đồ cột: đây là loại biểu đồ phù hợp khi hai thuộc tính đang xét có 1 loại là category (Age - vì có thể chia thành các nhóm tuổi) và 1 loại là numeric (Likes)"
   ]
  },
  {
   "cell_type": "code",
   "execution_count": 24,
   "metadata": {},
   "outputs": [
    {
     "data": {
      "image/png": "[encoded data removed]",
      "text/plain": [
       "<Figure size 1200x600 with 1 Axes>"
      ]
     },
     "metadata": {},
     "output_type": "display_data"
    }
   ],
   "source": [
    "# Vẽ biểu đồ cột giữa độ tuổi và số lượt thích\n",
    "plt.figure(figsize=(12, 6))\n",
    "sns.barplot(x='Age', y='Likes', data=data)\n",
    "plt.title('Mối quan hệ giữa độ tuổi và số lượt thích')\n",
    "plt.xlabel('Độ tuổi')\n",
    "plt.ylabel('Số lượt thích')\n",
    "plt.xticks(rotation=45)\n",
    "plt.show()"
   ]
  },
  {
   "cell_type": "code",
   "execution_count": null,
   "metadata": {},
   "outputs": [],
   "source": []
  }
 ],
 "metadata": {
  "kernelspec": {
   "display_name": "Python 3",
   "language": "python",
   "name": "python3"
  },
  "language_info": {
   "codemirror_mode": {
    "name": "ipython",
    "version": 3
   },
   "file_extension": ".py",
   "mimetype": "text/x-python",
   "name": "python",
   "nbconvert_exporter": "python",
   "pygments_lexer": "ipython3",
   "version": "3.12.3"
  }
 },
 "nbformat": 4,
 "nbformat_minor": 2
}
